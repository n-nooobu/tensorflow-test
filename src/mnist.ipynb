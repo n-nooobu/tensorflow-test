{
 "cells": [
  {
   "cell_type": "code",
   "execution_count": 2,
   "id": "31316a1a",
   "metadata": {},
   "outputs": [],
   "source": [
    "import time\n",
    "\n",
    "import tensorflow as tf\n",
    "import tensorflow.keras as keras\n",
    "from tensorflow.keras.datasets import mnist\n",
    "from tensorflow.keras.models import Sequential\n",
    "from tensorflow.keras.layers import Dense, Dropout, Flatten, MaxPooling2D, Conv2D\n",
    "from tensorflow.keras.callbacks import TensorBoard"
   ]
  },
  {
   "cell_type": "code",
   "execution_count": 2,
   "id": "dc1b6979",
   "metadata": {},
   "outputs": [],
   "source": [
    "import os\n",
    "os.environ['CUDA_VISIBLE_DEVICES'] = '-1'"
   ]
  },
  {
   "cell_type": "code",
   "execution_count": 2,
   "id": "50ebcf49",
   "metadata": {},
   "outputs": [
    {
     "name": "stdout",
     "output_type": "stream",
     "text": [
      "[name: \"/device:CPU:0\"\n",
      "device_type: \"CPU\"\n",
      "memory_limit: 268435456\n",
      "locality {\n",
      "}\n",
      "incarnation: 7831972402959389711\n",
      ", name: \"/device:GPU:0\"\n",
      "device_type: \"GPU\"\n",
      "memory_limit: 14272167936\n",
      "locality {\n",
      "  bus_id: 1\n",
      "  links {\n",
      "  }\n",
      "}\n",
      "incarnation: 8768467788771489360\n",
      "physical_device_desc: \"device: 0, name: NVIDIA RTX A4000, pci bus id: 0000:08:00.0, compute capability: 8.6\"\n",
      "]\n"
     ]
    }
   ],
   "source": [
    "from tensorflow.python.client import device_lib\n",
    "print(device_lib.list_local_devices()) "
   ]
  },
  {
   "cell_type": "code",
   "execution_count": 3,
   "id": "749eeebf",
   "metadata": {},
   "outputs": [
    {
     "name": "stdout",
     "output_type": "stream",
     "text": [
      "Epoch 1/15\n",
      "469/469 [==============================] - 12s 6ms/step - loss: 0.2493 - accuracy: 0.9230 - val_loss: 0.0500 - val_accuracy: 0.9835\n",
      "Epoch 2/15\n",
      "469/469 [==============================] - 3s 6ms/step - loss: 0.0922 - accuracy: 0.9717 - val_loss: 0.0395 - val_accuracy: 0.9874\n",
      "Epoch 3/15\n",
      "469/469 [==============================] - 3s 5ms/step - loss: 0.0703 - accuracy: 0.9783 - val_loss: 0.0315 - val_accuracy: 0.9901\n",
      "Epoch 4/15\n",
      "469/469 [==============================] - 3s 6ms/step - loss: 0.0598 - accuracy: 0.9819 - val_loss: 0.0309 - val_accuracy: 0.9901\n",
      "Epoch 5/15\n",
      "469/469 [==============================] - 3s 6ms/step - loss: 0.0533 - accuracy: 0.9840 - val_loss: 0.0343 - val_accuracy: 0.9891\n",
      "Epoch 6/15\n",
      "469/469 [==============================] - 3s 6ms/step - loss: 0.0469 - accuracy: 0.9860 - val_loss: 0.0301 - val_accuracy: 0.9908\n",
      "Epoch 7/15\n",
      "469/469 [==============================] - 3s 6ms/step - loss: 0.0425 - accuracy: 0.9867 - val_loss: 0.0290 - val_accuracy: 0.9912\n",
      "Epoch 8/15\n",
      "469/469 [==============================] - 3s 6ms/step - loss: 0.0389 - accuracy: 0.9876 - val_loss: 0.0275 - val_accuracy: 0.9913\n",
      "Epoch 9/15\n",
      "469/469 [==============================] - 3s 6ms/step - loss: 0.0346 - accuracy: 0.9892 - val_loss: 0.0338 - val_accuracy: 0.9909\n",
      "Epoch 10/15\n",
      "469/469 [==============================] - 3s 6ms/step - loss: 0.0324 - accuracy: 0.9897 - val_loss: 0.0259 - val_accuracy: 0.9924\n",
      "Epoch 11/15\n",
      "469/469 [==============================] - 3s 6ms/step - loss: 0.0334 - accuracy: 0.9898 - val_loss: 0.0274 - val_accuracy: 0.9925\n",
      "Epoch 12/15\n",
      "469/469 [==============================] - 3s 6ms/step - loss: 0.0301 - accuracy: 0.9906 - val_loss: 0.0292 - val_accuracy: 0.9911\n",
      "Epoch 13/15\n",
      "469/469 [==============================] - 3s 6ms/step - loss: 0.0264 - accuracy: 0.9912 - val_loss: 0.0268 - val_accuracy: 0.9927\n",
      "Epoch 14/15\n",
      "469/469 [==============================] - 3s 6ms/step - loss: 0.0274 - accuracy: 0.9911 - val_loss: 0.0256 - val_accuracy: 0.9919\n",
      "Epoch 15/15\n",
      "469/469 [==============================] - 3s 6ms/step - loss: 0.0261 - accuracy: 0.9912 - val_loss: 0.0314 - val_accuracy: 0.9911\n",
      "elapsed_time:48.639785051345825[sec]\n"
     ]
    }
   ],
   "source": [
    "(X_train,y_train), (X_test, y_test) = mnist.load_data()\n",
    "\n",
    "X_train = X_train.reshape(60000,28,28,1).astype('float32')\n",
    "X_test = X_test.reshape(10000,28,28,1).astype('float32')\n",
    "\n",
    "X_train /= 255\n",
    "X_test /= 255\n",
    "\n",
    "n_classes = 10\n",
    "y_train = keras.utils.to_categorical(y_train, n_classes)\n",
    "y_test = keras.utils.to_categorical(y_test, n_classes)\n",
    "\n",
    "model = Sequential()\n",
    "model.add(Conv2D(32, kernel_size=(3,3), activation='relu', input_shape=(28,28,1)) )\n",
    "model.add(Conv2D(64, kernel_size=(3,3), activation='relu'))\n",
    "model.add(MaxPooling2D(pool_size=(2,2)))\n",
    "model.add(Dropout(0.5))\n",
    "model.add(Flatten())          \n",
    "model.add(Dense(128, activation='relu'))\n",
    "model.add(Dropout(0.5))\n",
    "model.add(Dense(n_classes, activation='softmax'))\n",
    "\n",
    "model.compile(loss='categorical_crossentropy', optimizer='adam', metrics=['accuracy'])\n",
    "\n",
    "start = time.time()\n",
    "\n",
    "model.fit(X_train, y_train, batch_size=128, epochs=15, verbose=1, validation_data=(X_test,y_test))\n",
    "\n",
    "elapsed_time = time.time() - start\n",
    "print (\"elapsed_time:{0}\".format(elapsed_time) + \"[sec]\")"
   ]
  },
  {
   "cell_type": "code",
   "execution_count": null,
   "id": "7af5a4f1",
   "metadata": {},
   "outputs": [],
   "source": []
  }
 ],
 "metadata": {
  "kernelspec": {
   "display_name": "Python 3 (ipykernel)",
   "language": "python",
   "name": "python3"
  },
  "language_info": {
   "codemirror_mode": {
    "name": "ipython",
    "version": 3
   },
   "file_extension": ".py",
   "mimetype": "text/x-python",
   "name": "python",
   "nbconvert_exporter": "python",
   "pygments_lexer": "ipython3",
   "version": "3.8.0"
  }
 },
 "nbformat": 4,
 "nbformat_minor": 5
}
